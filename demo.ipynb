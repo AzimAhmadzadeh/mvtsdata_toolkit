{
 "cells": [
  {
   "cell_type": "markdown",
   "metadata": {},
   "source": [
    "# DEMO\n",
    "\n",
    "This demo is designed to give the user a quick tour over the software's funcionalities. Below is a list of all the things one could see in this demo:\n",
    " - Downloading a dataset of 2000 multivariate time series (mvts) instances.\n",
    " - Getting some basic statistics about your data.\n",
    " - Extracting a list of statistical features from the mvts instances.\n",
    " - ..."
   ]
  },
  {
   "cell_type": "code",
   "execution_count": 1,
   "metadata": {
    "pycharm": {
     "is_executing": false,
     "name": "#%%\n"
    }
   },
   "outputs": [],
   "source": [
    "import os\n",
    "import yaml\n",
    "from data_retriever import DataRetriever  # for downloading data\n",
    "import CONSTANTS as CONST"
   ]
  },
  {
   "cell_type": "markdown",
   "metadata": {},
   "source": [
    "## Download the Dataset\n",
    "There is a dictionary of datasets available in `./datasets_configs.yml`. Let's download the one with id `1`."
   ]
  },
  {
   "cell_type": "code",
   "execution_count": 2,
   "metadata": {
    "pycharm": {
     "is_executing": false
    }
   },
   "outputs": [],
   "source": [
    "dr = DataRetriever(1)"
   ]
  },
  {
   "cell_type": "code",
   "execution_count": 3,
   "metadata": {
    "pycharm": {
     "is_executing": false
    }
   },
   "outputs": [
    {
     "name": "stdout",
     "output_type": "stream",
     "text": [
      "URL:\t\thttps://bitbucket.org/gsudmlab/mvtsdata_toolkit/downloads/petdataset_01.zip\n",
      "NAME:\t\tpetdataset_01.zip\n",
      "TYPE:\t\tapplication/zip\n",
      "SIZE:\t\t32M\n"
     ]
    }
   ],
   "source": [
    "print('URL:\\t\\t{}'.format(dr.dataset_url))\n",
    "print('NAME:\\t\\t{}'.format(dr.dataset_name))\n",
    "print('TYPE:\\t\\t{}'.format(dr.get_compression_type()))\n",
    "print('SIZE:\\t\\t{}'.format(dr.get_total_size()))"
   ]
  },
  {
   "cell_type": "markdown",
   "metadata": {},
   "source": [
    "Ready to download? (This may take a few seconds, depending on your internet bandwidth.)"
   ]
  },
  {
   "cell_type": "code",
   "execution_count": 4,
   "metadata": {
    "pycharm": {
     "is_executing": false
    }
   },
   "outputs": [
    {
     "name": "stderr",
     "output_type": "stream",
     "text": [
      "Extracting: 100%|██████████| 2001/2001 [00:01<00:00, 1293.42it/s]\n"
     ]
    }
   ],
   "source": [
    "where_to = './xxx'\n",
    "dr.retrieve(target_path = where_to)"
   ]
  },
  {
   "cell_type": "markdown",
   "metadata": {},
   "source": [
    "OK. Let's see how many files are available to us now:"
   ]
  },
  {
   "cell_type": "code",
   "execution_count": 5,
   "metadata": {
    "pycharm": {
     "is_executing": false,
     "name": "#%%\n"
    }
   },
   "outputs": [
    {
     "data": {
      "text/plain": [
       "2000"
      ]
     },
     "execution_count": 5,
     "metadata": {},
     "output_type": "execute_result"
    }
   ],
   "source": [
    "dr.get_total_number_of_files()"
   ]
  },
  {
   "cell_type": "markdown",
   "metadata": {},
   "source": [
    "## MVTS Data Analysis\n",
    "Using `data_analysis.mvts_data_analysis.py` we can get an idea about the dataset we are going to work with. We start with creating an instance of a `MVTSDataAnalysis`."
   ]
  },
  {
   "cell_type": "code",
   "execution_count": 6,
   "metadata": {
    "scrolled": true
   },
   "outputs": [
    {
     "name": "stdout",
     "output_type": "stream",
     "text": [
      "----------------------------------------\n",
      "Directory:\t\t\t\t\t/home/azim/CODES/PyWorkspace/mvtsdata_toolkit/data/petdataset_01/\n",
      "Total number of mvts files:\t2000\n",
      "Total size:\t\t\t\t\t453M\n",
      "Total average:\t\t\t\t232K\n",
      "----------------------------------------\n"
     ]
    }
   ],
   "source": [
    "from data_analysis.mvts_data_analysis import MVTSDataAnalysis\n",
    "path_to_config = './configs/feature_extraction_configs.yml'\n",
    "mvda = MVTSDataAnalysis(path_to_config)\n",
    "mvda.print_stat_of_directory()"
   ]
  },
  {
   "cell_type": "markdown",
   "metadata": {},
   "source": [
    "Let's now get some stats from the content of the files. Without loss of generality, we analyze only 3 parameters (namely `'TOTUSJH'`, `'TOTBSQ'`, and `'TOTPOT'`), and only on the first 50 mvts files."
   ]
  },
  {
   "cell_type": "code",
   "execution_count": 7,
   "metadata": {},
   "outputs": [
    {
     "name": "stdout",
     "output_type": "stream",
     "text": [
      "-->\t[50/50] \t\t File: lab[C]1.0@7869_id[3836]_st[2014-03-17T13:24:00]_et[2014-03-18T01:12:00].csv"
     ]
    }
   ],
   "source": [
    "params = ['TOTUSJH', 'TOTBSQ', 'TOTPOT']\n",
    "n = 50\n",
    "mvda.compute_summary(parameters_list=params, first_k=n)"
   ]
  },
  {
   "cell_type": "code",
   "execution_count": 8,
   "metadata": {},
   "outputs": [
    {
     "name": "stdout",
     "output_type": "stream",
     "text": [
      "  Parameter-Name Count Null-Count           min          25th          50th          75th           max\n",
      "0        TOTUSJH  3000          0  3.494185e+00  3.398446e+01  8.002865e+01  3.650795e+02  3.162777e+03\n",
      "1         TOTBSQ  3000          0  1.983268e+07  2.536142e+08  6.862917e+08  7.454094e+09  3.848284e+10\n",
      "2         TOTPOT  3000          0  1.205181e+20  1.853174e+21  4.816468e+21  3.869989e+22  7.108347e+23\n"
     ]
    }
   ],
   "source": [
    "mvda.print_summary()"
   ]
  },
  {
   "cell_type": "markdown",
   "metadata": {},
   "source": [
    "Which says the length of the time series, across the 50 mvts is 3000, with no `NA/NAN` or missing values. In addition, `min`, `max`, and three quantiles are calculated for each time series."
   ]
  },
  {
   "cell_type": "markdown",
   "metadata": {},
   "source": [
    "## Feature Extraction\n",
    "Now that we have an idea about our raw data, let's extract some features from the data. A list of ~50 features are implemented in `features.feature_collection.py`. Let's take a look."
   ]
  },
  {
   "cell_type": "code",
   "execution_count": 9,
   "metadata": {},
   "outputs": [
    {
     "name": "stdout",
     "output_type": "stream",
     "text": [
      "Help on module features.feature_collection in features:\n",
      "\n",
      "NAME\n",
      "    features.feature_collection\n",
      "\n",
      "FUNCTIONS\n",
      "    get_average_absolute_change(uni_ts:pandas.core.series.Series) -> float\n",
      "        :return: the average absolute first difference of a univariate time series.\n",
      "    \n",
      "    get_average_absolute_derivative_change(uni_ts:pandas.core.series.Series) -> float\n",
      "        :return: the average absolute first difference of a derivative of univariate time series.\n",
      "    \n",
      "    get_avg_mono_decrease_slope(uni_ts:pandas.core.series.Series) -> float\n",
      "        :return: the average slope of monotonically decreasing segments.\n",
      "    \n",
      "    get_avg_mono_increase_slope(uni_ts:pandas.core.series.Series) -> float\n",
      "        :return: the average slope of monotonically increasing segments.\n",
      "    \n",
      "    get_dderivative_kurtosis(uni_ts:pandas.core.series.Series, step_size:int=1) -> float\n",
      "        :return: the kurtosis of the difference derivative of univariate time series within the\n",
      "                 function we use step_size to find derivative (default value of step_size is 1).\n",
      "    \n",
      "    get_dderivative_mean(uni_ts:pandas.core.series.Series, step_size:int=1) -> float\n",
      "        :return: the mean of the difference derivative of univariate time series within the function\n",
      "                 we use step_size to find derivative (default value of step_size is 1).\n",
      "    \n",
      "    get_dderivative_skewness(uni_ts:pandas.core.series.Series, step_size:int=1) -> float\n",
      "        :return: the skewness of the difference derivative of univariate time series within the\n",
      "                 function we use step_size to find derivative (default value of step_size is 1).\n",
      "    \n",
      "    get_dderivative_stddev(uni_ts:pandas.core.series.Series, step_size:int=1) -> float\n",
      "        :return: the std.dev of the difference derivative of univariate time series within the\n",
      "                 function we use step_size to find derivative (default value of step_size is 1).\n",
      "    \n",
      "    get_difference_of_maxs(uni_ts:pandas.core.series.Series) -> float\n",
      "        :return: the absolute difference between the maximums of the first and the second halves of a\n",
      "                 given univariate time series.\n",
      "    \n",
      "    get_difference_of_means(uni_ts:pandas.core.series.Series) -> float\n",
      "        :return: the absolute difference between the means of the first and the second halves of a\n",
      "                 given univariate time series.\n",
      "    \n",
      "    get_difference_of_medians(uni_ts:pandas.core.series.Series) -> float\n",
      "        :return: the absolute difference between the medians of the first and the second halves of a\n",
      "                 given univariate time series.\n",
      "    \n",
      "    get_difference_of_mins(uni_ts:pandas.core.series.Series) -> float\n",
      "        :return: the absolute difference between the minimums of the first and the second halves of a\n",
      "                 given univariate time series.\n",
      "    \n",
      "    get_difference_of_stds(uni_ts:pandas.core.series.Series) -> float\n",
      "        :return: the absolute difference between the standard dev. of the first and the second halves\n",
      "                 of a given univariate time series.\n",
      "    \n",
      "    get_difference_of_vars(uni_ts:pandas.core.series.Series) -> float\n",
      "        :return: the absolute difference between the variances of the first and the second halves of\n",
      "                 a given univariate time series.\n",
      "    \n",
      "    get_gderivative_kurtosis(uni_ts:pandas.core.series.Series) -> float\n",
      "        :return: the kurtosis of the gradient derivative of univariate time series.\n",
      "    \n",
      "    get_gderivative_mean(uni_ts:pandas.core.series.Series) -> float\n",
      "        :return: the mean of the gradient derivative of univariate time series.\n",
      "    \n",
      "    get_gderivative_skewness(uni_ts:pandas.core.series.Series) -> float\n",
      "        :return: the skewness of the gradient derivative of univariate time series.\n",
      "    \n",
      "    get_gderivative_stddev(uni_ts:pandas.core.series.Series) -> float\n",
      "        :return: the std.dev of the gradient derivative of univariate time series.\n",
      "    \n",
      "    get_kurtosis(uni_ts:pandas.core.series.Series)\n",
      "        Returns the kurtosis of a given univariate time series\n",
      "    \n",
      "    get_last_K(uni_ts:pandas.core.series.Series, k:int) -> pandas.core.series.Series\n",
      "        :return: the last k values in a univariate time series.\n",
      "    \n",
      "    get_last_value(uni_ts)\n",
      "        :return: the last value in a univariate time series. This seems redundant since `get_last_K`\n",
      "                 already does this job, but it is necessary because the return type is different (\n",
      "                 `numpy.int64`) than what `get_last_K` returns (`numpy.ndarray`). This is especially\n",
      "                 important if the methods in this module are going to be called from a list.\n",
      "    \n",
      "    get_linear_weighted_average(uni_ts:pandas.core.series.Series) -> float\n",
      "         Computes the linear weighted average of a univariate time series. It simply, for each `x_i` in\n",
      "        `uni_ts` computes the following::\n",
      "        \n",
      "            2/(n*(n+1)) * sum(i* x_i)\n",
      "        \n",
      "        where `n` is the length of the time series.\n",
      "        \n",
      "        :return: the linear weighted average of `uni_ts`.\n",
      "    \n",
      "    get_longest_monotonic_decrease(uni_ts:pandas.core.series.Series) -> int\n",
      "        :return: the length of the time series segment with longest monotonic increase.\n",
      "    \n",
      "    get_longest_monotonic_increase(uni_ts:pandas.core.series.Series) -> int\n",
      "        :return: the length of the time series segment with longest monotonic increase.\n",
      "    \n",
      "    get_longest_negative_run(uni_ts:pandas.core.series.Series) -> int\n",
      "        :return: the longest negative run in a univariate time series.\n",
      "    \n",
      "    get_longest_positive_run(uni_ts:pandas.core.series.Series) -> int\n",
      "        :return: the longest positive run in a univariate time series.\n",
      "    \n",
      "    get_max(uni_ts:pandas.core.series.Series)\n",
      "        Returns the maximum value of a given univariate time series\n",
      "    \n",
      "    get_mean(uni_ts:pandas.core.series.Series)\n",
      "        Returns the arithmetic mean value of a given univariate time series\n",
      "    \n",
      "    get_mean_last_K(uni_ts:pandas.core.series.Series, k:int=10) -> float\n",
      "        :return: the mean of last k-values in a univariate time series.\n",
      "    \n",
      "    get_mean_local_maxima_value(uni_ts:pandas.core.series.Series, only_positive:bool=False) -> float\n",
      "        Returns the mean of local maxima values.\n",
      "        \n",
      "        :param uni_ts: Univariate time series.\n",
      "        :param only_positive: Only positive flag for local maxima. When True only positive local\n",
      "               maxima are considered. Default is False.\n",
      "        :return: mean of local maxima values.\n",
      "    \n",
      "    get_mean_local_minima_value(uni_ts:pandas.core.series.Series, only_negative:bool=False) -> float\n",
      "        Returns the mean of local minima values.\n",
      "        \n",
      "        :param uni_ts: Univariate time series.\n",
      "        :param only_negative: Only negative flag for local minima. When True only negative local\n",
      "               minima are considered. Default is False.\n",
      "        :return: mean of local minima values.\n",
      "    \n",
      "    get_median(uni_ts:pandas.core.series.Series)\n",
      "        Returns the median value of a given univariate time series\n",
      "    \n",
      "    get_min(uni_ts:pandas.core.series.Series)\n",
      "        Returns the minimum value of a given univariate time series\n",
      "    \n",
      "    get_negative_fraction(uni_ts:pandas.core.series.Series) -> float\n",
      "        :return: the fraction of negative numbers in uni_ts.\n",
      "    \n",
      "    get_no_local_extrema(uni_ts:pandas.core.series.Series)\n",
      "        Returns the number of local extrema in a given univariate time series\n",
      "    \n",
      "    get_no_local_maxima(uni_ts:pandas.core.series.Series)\n",
      "        Returns the numer of local maxima in a given univariate time series\n",
      "    \n",
      "    get_no_local_minima(uni_ts:pandas.core.series.Series)\n",
      "        Returns the number of local minima in a given univariate time series\n",
      "    \n",
      "    get_no_mean_local_maxima_upsurges(uni_ts:pandas.core.series.Series, only_positive:bool=False) -> int\n",
      "        Returns the number of values in a given time series whose value is greater than the mean of\n",
      "        local maxima values (# of upserges).\n",
      "        \n",
      "        :param uni_ts: Univariate time series.\n",
      "        :param only_positive: Only positive flag for mean local maxima. When True only positive local\n",
      "               maxima are considered. Default is False\n",
      "        :return: number of points whose value is greater than mean local maxima.\n",
      "    \n",
      "    get_no_mean_local_minima_downslides(uni_ts:pandas.core.series.Series, only_negative:bool=False) -> int\n",
      "        Returns the number of values in a given time series whose value is less than the mean of\n",
      "        local minima values (# of downslides).\n",
      "        \n",
      "        :param uni_ts: Univariate time series.\n",
      "        :param only_negative: Only negative flag for mean local minima. When True only negative local\n",
      "               minima are considered. Default is False.\n",
      "        :return: number of points whose value is less than mean local minima.\n",
      "    \n",
      "    get_no_zero_crossings(uni_ts:pandas.core.series.Series)\n",
      "        Returns the number of zero-crossings in a given univariate time series\n",
      "    \n",
      "    get_positive_fraction(uni_ts:pandas.core.series.Series) -> float\n",
      "        :return: the fraction of positive numbers in uni_ts.\n",
      "    \n",
      "    get_quadratic_weighted_average(uni_ts:pandas.core.series.Series) -> float\n",
      "        Computes quadratic weighted average of a univariate time series. It simply, for each `x_i` in\n",
      "        `uni_ts`, computes the following::\n",
      "        \n",
      "            6/(n*(n+1)(2*n+1)) * sum(i^2 * x_i)\n",
      "        \n",
      "        where `n` is the length of the time seires.\n",
      "        \n",
      "        :return: the quadratic weighted average of `uni_ts`.\n",
      "    \n",
      "    get_skewness(uni_ts:pandas.core.series.Series)\n",
      "        Returns the skewness of a given univariate time series\n",
      "    \n",
      "    get_slope_of_longest_mono_decrease(uni_ts:pandas.core.series.Series) -> float\n",
      "        Identifies the longest monotonic decrease and gets the slope.\n",
      "        :return: the slope of the longest monotonic decrease in `uni_ts`.\n",
      "    \n",
      "    get_slope_of_longest_mono_increase(uni_ts:pandas.core.series.Series) -> float\n",
      "        Identifies the longest monotonic increase and gets the slope.\n",
      "        :return: the slope of the longest monotonic increase in `uni_ts`.\n",
      "    \n",
      "    get_stddev(uni_ts:pandas.core.series.Series)\n",
      "        Returns the standard deviation of a given univariate time series\n",
      "    \n",
      "    get_sum_of_last_K(uni_ts:pandas.core.series.Series, k:int=10) -> float\n",
      "        :return: the sum of last k-values in a univariate time series.\n",
      "    \n",
      "    get_var(uni_ts:pandas.core.series.Series)\n",
      "        Returns the variance of a given univariate time series\n",
      "    \n",
      "    tee(...)\n",
      "        tee(iterable, n=2) --> tuple of n independent iterators.\n",
      "\n",
      "FILE\n",
      "    /home/azim/CODES/PyWorkspace/mvtsdata_toolkit/features/feature_collection.py\n",
      "\n",
      "\n"
     ]
    }
   ],
   "source": [
    "import features.feature_collection as fc\n",
    "help(fc)"
   ]
  },
  {
   "cell_type": "markdown",
   "metadata": {},
   "source": [
    "Time to extract a few features now."
   ]
  },
  {
   "cell_type": "code",
   "execution_count": 10,
   "metadata": {},
   "outputs": [
    {
     "name": "stdout",
     "output_type": "stream",
     "text": [
      "/home/azim/CODES/PyWorkspace/mvtsdata_toolkit/data/petdataset_01/\n",
      "\n",
      "\n",
      "\t-----------------------------------\n",
      "\t\tTotal No. of Features:\t\t43\n",
      "\t\tTotal No. of time series:\t50\n",
      "\t\tOutput TS dimensionality (50 X 43):\t2150\n",
      "\t-----------------------------------\n",
      "\n",
      "\t >>> Total Processed: 50 / 50 <<<\n",
      "\t50 files have been processed.\n",
      "\tAs a result, a dataframe of dimension 50 X 176 is created.\n",
      "\n",
      "\tThe dataframe is stored at: /home/azim/CODES/PyWorkspace/mvtsdata_toolkit/data/extracted_features/extracted_features.csv\n"
     ]
    }
   ],
   "source": [
    "from features.feature_extractor import FeatureExtractor\n",
    "\n",
    "fe = FeatureExtractor(path_to_config)\n",
    "fe.calculate_all(params_index_list=[5, 6, 7, 8], first_k= 50)\n",
    "fe.store_extracted_features('extracted_features.csv')"
   ]
  },
  {
   "cell_type": "code",
   "execution_count": 12,
   "metadata": {},
   "outputs": [
    {
     "data": {
      "text/plain": [
       "(50, 176)"
      ]
     },
     "execution_count": 12,
     "metadata": {},
     "output_type": "execute_result"
    }
   ],
   "source": [
    "fe.df_all_features.shape"
   ]
  }
 ],
 "metadata": {
  "kernelspec": {
   "display_name": "Python 3",
   "language": "python",
   "name": "python3"
  },
  "language_info": {
   "codemirror_mode": {
    "name": "ipython",
    "version": 3
   },
   "file_extension": ".py",
   "mimetype": "text/x-python",
   "name": "python",
   "nbconvert_exporter": "python",
   "pygments_lexer": "ipython3",
   "version": "3.6.8"
  },
  "pycharm": {
   "stem_cell": {
    "cell_type": "raw",
    "metadata": {
     "collapsed": false
    },
    "source": []
   }
  }
 },
 "nbformat": 4,
 "nbformat_minor": 1
}
