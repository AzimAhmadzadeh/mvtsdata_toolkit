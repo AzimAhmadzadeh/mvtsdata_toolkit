{
 "cells": [
  {
   "cell_type": "code",
   "execution_count": 5,
   "metadata": {
    "collapsed": true,
    "pycharm": {
     "is_executing": false
    }
   },
   "outputs": [
    {
     "name": "stdout",
     "text": [
      "Help on module features.feature_collection in features:\n\nNAME\n    features.feature_collection\n\nFUNCTIONS\n    difference_derivative(uni_ts:pandas.core.series.Series, N:int=1)\n    \n    get_average_absolute_change(uni_ts:pandas.core.series.Series)\n        Returns the average absolute first difference of a univariate time series\n    \n    get_average_absolute_derivative_change(uni_ts:pandas.core.series.Series)\n        Returns the average absolute first difference of a derivative of univariate time series\n    \n    get_avg_mono_decrease_slope(uni_ts:pandas.core.series.Series)\n        Returns average slope of monotonically decreasing segments\n    \n    get_avg_mono_increase_slope(uni_ts:pandas.core.series.Series)\n        Returns average slope of monotonically increasing segments\n    \n    get_dderivative_kurtosis(uni_ts:pandas.core.series.Series, step_size:int=1)\n        Returns the kurtosis of the difference derivative of univariate time series\n        -- within the function we use step_size to find derivative\n        (default value of step_size is 1\n    \n    get_dderivative_mean(uni_ts:pandas.core.series.Series, step_size:int=1)\n        Returns the mean of the difference derivative of univariate time series\n        -- within the function we use step_size to find derivative\n        (default value of step_size is 1\n    \n    get_dderivative_skewness(uni_ts:pandas.core.series.Series, step_size:int=1)\n        Returns the skewness of the difference derivative of univariate time series\n        -- within the function we use step_size to find derivative\n        (default value of step_size is 1\n    \n    get_dderivative_stddev(uni_ts:pandas.core.series.Series, step_size:int=1)\n        Returns the std.dev of the difference derivative of univariate time series\n        -- within the function we use step_size to find derivative\n        (default value of step_size is 1\n    \n    get_difference_of_maxs(uni_ts:pandas.core.series.Series)\n        Returns the absolute difference between the maximums of the first and the\n        second halves of a given univariate time series\n    \n    get_difference_of_means(uni_ts:pandas.core.series.Series)\n        Returns the absolute difference between the means of the first and the\n        second halves of a given univariate time series\n    \n    get_difference_of_medians(uni_ts:pandas.core.series.Series)\n        Returns the absolute difference between the medians of the first\n        and the second halves of a given univariate time series\n    \n    get_difference_of_mins(uni_ts:pandas.core.series.Series)\n        Returns the absolute difference between the minimums of the first and the\n        second halves of a given univariate time series\n    \n    get_difference_of_stds(uni_ts:pandas.core.series.Series)\n        Returns the absolute difference between the standard dev. of the first\n        and the second halves of a given univariate time series\n    \n    get_difference_of_vars(uni_ts:pandas.core.series.Series)\n        Returns the absolute difference between the variances of the first\n        and the second halves of a given univariate time series\n    \n    get_gderivative_kurtosis(uni_ts:pandas.core.series.Series)\n        Returns the kurtosis of the gradient derivative of univariate time series\n    \n    get_gderivative_mean(uni_ts:pandas.core.series.Series)\n        Returns the mean of the gradient derivative of univariate time series\n    \n    get_gderivative_skewness(uni_ts:pandas.core.series.Series)\n        Returns the skewness of the gradient derivative of univariate time series\n    \n    get_gderivative_stddev(uni_ts:pandas.core.series.Series)\n        Returns the std.dev of the gradient derivative of univariate time series\n    \n    get_kurtosis(uni_ts:pandas.core.series.Series)\n        Returns the kurtosis of a given univariate time series\n    \n    get_last_K(uni_ts:pandas.core.series.Series, k:int)\n        Returns the last k values in a univariate time series\n    \n    get_last_value(uni_ts)\n        Returns the last value in a univariate time series. This seems\n        redundant since 'get_last_K' already does this job, but it is\n        necessary because the return type is different (numpy.int64) than\n        what 'get_last_K' returns (numpy.ndarray). This is important if the\n        methods in this module are going to be called from a list.\n    \n    get_linear_weighted_average(uni_ts:pandas.core.series.Series)\n        Returns linear weighted average of a univariate time series\n        simply gets 2/(n*(n+1)) * sum(i* x_i) for each x_i in uni_ts\n    \n    get_longest_monotonic_decrease(uni_ts:pandas.core.series.Series)\n        Gets the length of the time series segment with longest monotonic increase\n    \n    get_longest_monotonic_increase(uni_ts:pandas.core.series.Series)\n        Gets the length of the time series segment with longest monotonic increase\n    \n    get_longest_negative_run(uni_ts:pandas.core.series.Series)\n        Gets the longest negative run in a univariate time series\n    \n    get_longest_positive_run(uni_ts:pandas.core.series.Series)\n        Gets the longest positive run in a univariate time series\n    \n    get_max(uni_ts:pandas.core.series.Series)\n        Returns the maximum value of a given univariate time series\n    \n    get_mean(uni_ts:pandas.core.series.Series)\n        Returns the arithmetic mean value of a given univariate time series\n    \n    get_mean_last_K(uni_ts:pandas.core.series.Series, k:int=10)\n        Returns the mean of last k-values in a univariate time series\n    \n    get_mean_local_maxima_value(uni_ts:pandas.core.series.Series, only_positive:bool=False)\n        Returns the mean of local maxima values\n        Args:\n            uni_ts (numpy.ndarray): Univariate time series.\n            only_positive (bool): Only positive flag for local maxima.\n                When True only positive local maxima are considered. Default is False\n        Returns:\n            float: mean of local maxima values.\n    \n    get_mean_local_minima_value(uni_ts:pandas.core.series.Series, only_negative:bool=False)\n        Returns the mean of local minima values\n        Args:\n            uni_ts (numpy.ndarray): Univariate time series.\n            only_negative (bool): Only negative flag for local minima.\n                When True only negative local minima are considered. Default is False\n        Returns:\n            float: mean of local minima values.\n    \n    get_median(uni_ts:pandas.core.series.Series)\n        Returns the median value of a given univariate time series\n    \n    get_min(uni_ts:pandas.core.series.Series)\n        Returns the minimum value of a given univariate time series\n    \n    get_negative_fraction(uni_ts:pandas.core.series.Series)\n        Returns the fraction of negative numbers in uni_ts\n    \n    get_no_local_extrema(uni_ts:pandas.core.series.Series)\n        Returns the number of local extrema in a given univariate time series\n    \n    get_no_local_maxima(uni_ts:pandas.core.series.Series)\n        Returns the numer of local maxima in a given univariate time series\n    \n    get_no_local_minima(uni_ts:pandas.core.series.Series)\n        Returns the number of local minima in a given univariate time series\n    \n    get_no_mean_local_maxima_upsurges(uni_ts:pandas.core.series.Series, only_positive:bool=False)\n        Returns the number of values in a given time series whose value\n            is greater than the mean of local maxima values (# of upserges).\n        Args:\n            uni_ts (numpy.ndarray): Univariate time series.\n            only_positive (bool): Only positive flag for mean local maxima.\n                When True only positive local maxima are considered. Default is False\n        Returns:\n            int: number of points whose value is greater than mean local maxima.\n    \n    get_no_mean_local_minima_downslides(uni_ts:pandas.core.series.Series, only_negative:bool=False)\n        Returns the number of values in a given time series whose value\n            is less than the mean of local minima values (# of downslides).\n        Args:\n            uni_ts (numpy.ndarray): Univariate time series.\n            only_negative (bool): Only negative flag for mean local minima.\n                When True only negative local minima are considered. Default is False\n        Returns:\n            int: number of points whose value is less than mean local minima.\n    \n    get_no_zero_crossings(uni_ts:pandas.core.series.Series)\n        Returns the number of zero-crossings in a given univariate time series\n    \n    get_positive_fraction(uni_ts:pandas.core.series.Series)\n        Returns the fraction of positive numbers in uni_ts\n    \n    get_quadratic_weighted_average(uni_ts:pandas.core.series.Series)\n        Returns quadratic weighted average of a univariate time series\n        simply gets 6/(n*(n+1)(2*n+1)) * sum(i^2 * x_i) for each x_i in uni_ts\n    \n    get_skewness(uni_ts:pandas.core.series.Series)\n        Returns the skewness of a given univariate time series\n    \n    get_slope_of_longest_mono_decrease(uni_ts:pandas.core.series.Series)\n        Identifies the longest monotonic decrease and gets the slope\n    \n    get_slope_of_longest_mono_increase(uni_ts:pandas.core.series.Series)\n        Identifies the longest monotonic incrase and gets the slope\n    \n    get_stddev(uni_ts:pandas.core.series.Series)\n        Returns the standard deviation of a given univariate time series\n    \n    get_sum_of_last_K(uni_ts:pandas.core.series.Series, k:int=10)\n        Returns the sum of last k-values in a univariate time series\n    \n    get_var(uni_ts:pandas.core.series.Series)\n        Returns the variance of a given univariate time series\n    \n    gradient_derivative(uni_ts:pandas.core.series.Series)\n    \n    sign(uni_ts:pandas.core.series.Series)\n    \n    tee(...)\n        tee(iterable, n=2) --> tuple of n independent iterators.\n\nFILE\n    /home/azim/CODES/PyWorkspace/mvts_data_toolkit/features/feature_collection.py\n\n\nNone\n"
     ],
     "output_type": "stream"
    }
   ],
   "source": [
    "from features import feature_collection\n",
    "print(help(feature_collection))"
   ]
  }
 ],
 "metadata": {
  "kernelspec": {
   "display_name": "Python 3",
   "language": "python",
   "name": "python3"
  },
  "language_info": {
   "codemirror_mode": {
    "name": "ipython",
    "version": 2
   },
   "file_extension": ".py",
   "mimetype": "text/x-python",
   "name": "python",
   "nbconvert_exporter": "python",
   "pygments_lexer": "ipython2",
   "version": "2.7.6"
  },
  "pycharm": {
   "stem_cell": {
    "cell_type": "raw",
    "source": [],
    "metadata": {
     "collapsed": false
    }
   }
  }
 },
 "nbformat": 4,
 "nbformat_minor": 0
}