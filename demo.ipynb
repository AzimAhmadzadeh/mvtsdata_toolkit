{
 "cells": [
  {
   "cell_type": "markdown",
   "metadata": {},
   "source": [
    "# DEMO\n",
    "\n",
    "This demo is designed to give the user a tour of the software's funcionalities. Below is a list of all the things one could see in this demo:\n",
    " - Download a dataset of 2000 multivariate time series (mvts) instances.\n",
    " - Get some basic statistics about your data.\n",
    " - Extract a list of statistical features from the mvts instances.\n",
    " - ..."
   ]
  },
  {
   "cell_type": "code",
   "execution_count": 1,
   "metadata": {
    "pycharm": {
     "is_executing": false,
     "name": "#%%\n"
    }
   },
   "outputs": [],
   "source": [
    "import os\n",
    "import yaml\n",
    "from data_retriever import DataRetriever  # for downloading data\n",
    "import CONSTANTS as CONST"
   ]
  },
  {
   "cell_type": "markdown",
   "metadata": {},
   "source": [
    "## Download the Dataset\n",
    "There is a dictionary of datasets available in `./datasets_configs.yml`. Let's download the one with id `1`."
   ]
  },
  {
   "cell_type": "code",
   "execution_count": 2,
   "metadata": {
    "pycharm": {
     "is_executing": false
    }
   },
   "outputs": [],
   "source": [
    "dr = DataRetriever(1)"
   ]
  },
  {
   "cell_type": "code",
   "execution_count": 3,
   "metadata": {
    "pycharm": {
     "is_executing": false
    }
   },
   "outputs": [
    {
     "name": "stdout",
     "output_type": "stream",
     "text": [
      "URL:\t\thttps://bitbucket.org/gsudmlab/mvts_data_toolkit/downloads/petdataset_01.zip\n",
      "NAME:\t\tpetdataset_01.zip\n",
      "TYPE:\t\tapplication/zip\n",
      "SIZE:\t\t32M\n"
     ]
    }
   ],
   "source": [
    "print('URL:\\t\\t{}'.format(dr.dataset_url))\n",
    "print('NAME:\\t\\t{}'.format(dr.dataset_name))\n",
    "print('TYPE:\\t\\t{}'.format(dr.get_compression_type()))\n",
    "print('SIZE:\\t\\t{}'.format(dr.get_total_size()))"
   ]
  },
  {
   "cell_type": "markdown",
   "metadata": {},
   "source": [
    "Ready to download? (This may take a few seconds, depending on your internet bandwidth.)"
   ]
  },
  {
   "cell_type": "code",
   "execution_count": 4,
   "metadata": {
    "pycharm": {
     "is_executing": false
    }
   },
   "outputs": [
    {
     "name": "stderr",
     "output_type": "stream",
     "text": [
      "Extracting: 100%|██████████| 2001/2001 [00:00<00:00, 2282.09it/s]\n"
     ]
    }
   ],
   "source": [
    "where_to = './xxx'\n",
    "dr.retrieve(target_path = where_to)"
   ]
  },
  {
   "cell_type": "markdown",
   "metadata": {},
   "source": [
    "Done. Let's see how many files are available to us now:"
   ]
  },
  {
   "cell_type": "code",
   "execution_count": 5,
   "metadata": {
    "pycharm": {
     "is_executing": false,
     "name": "#%%\n"
    }
   },
   "outputs": [
    {
     "data": {
      "text/plain": [
       "2000"
      ]
     },
     "execution_count": 5,
     "metadata": {},
     "output_type": "execute_result"
    }
   ],
   "source": [
    "dr.get_total_number_of_files()"
   ]
  },
  {
   "cell_type": "markdown",
   "metadata": {},
   "source": [
    "## MVTS Data Analysis\n",
    "Using `data_analysis.mvts_data_analysis.py` we can get an idea of what we are dealing with. We start with creating an instance of a `MVTSDataAnalysis`."
   ]
  },
  {
   "cell_type": "code",
   "execution_count": 8,
   "metadata": {},
   "outputs": [],
   "source": [
    "from data_analysis.mvts_data_analysis import MVTSDataAnalysis\n",
    "\n",
    "path_to_dataset = os.path.join(CONST.ROOT, where_to)\n",
    "mda = MVTSDataAnalysis(path_to_dataset)"
   ]
  },
  {
   "cell_type": "code",
   "execution_count": null,
   "metadata": {},
   "outputs": [],
   "source": []
  }
 ],
 "metadata": {
  "kernelspec": {
   "display_name": "Python 3",
   "language": "python",
   "name": "python3"
  },
  "language_info": {
   "codemirror_mode": {
    "name": "ipython",
    "version": 3
   },
   "file_extension": ".py",
   "mimetype": "text/x-python",
   "name": "python",
   "nbconvert_exporter": "python",
   "pygments_lexer": "ipython3",
   "version": "3.6.8"
  },
  "pycharm": {
   "stem_cell": {
    "cell_type": "raw",
    "metadata": {
     "collapsed": false
    },
    "source": []
   }
  }
 },
 "nbformat": 4,
 "nbformat_minor": 1
}
